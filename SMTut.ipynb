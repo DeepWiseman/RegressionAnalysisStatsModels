{
 "cells": [
  {
   "cell_type": "markdown",
   "metadata": {},
   "source": [
    "## Linear Regressions with StatsModels"
   ]
  },
  {
   "cell_type": "markdown",
   "metadata": {},
   "source": [
    "Statsmodels is a great library we can use to run regressions. Regressions are used to analyze the relationships between dependent variables. We create a linear regressions by plotting a line that closely matches our data to make predictions on unknown data."
   ]
  },
  {
   "cell_type": "markdown",
   "metadata": {},
   "source": [
    "### Imports"
   ]
  },
  {
   "cell_type": "code",
   "execution_count": 66,
   "metadata": {
    "scrolled": false
   },
   "outputs": [],
   "source": [
    "# Provides numerous math functions related to linear algebra and more\n",
    "import numpy as np\n",
    "# Provides numerous tools for manipulating tabular data and more\n",
    "import pandas as pd\n",
    "# Used to create static and interactive graphical data plots\n",
    "import matplotlib.pyplot as plt\n",
    "%matplotlib inline\n",
    "# Provides numerous tools related to statistical data analysis\n",
    "import statsmodels.api as sm\n",
    "# Seaborn extends the capabilities of Matplotlib\n",
    "import seaborn as sns"
   ]
  },
  {
   "cell_type": "markdown",
   "metadata": {},
   "source": [
    "### Exploring Data"
   ]
  },
  {
   "cell_type": "code",
   "execution_count": 63,
   "metadata": {},
   "outputs": [
    {
     "data": {
      "text/html": [
       "<table class=\"simpletable\">\n",
       "<caption>OLS Regression Results</caption>\n",
       "<tr>\n",
       "  <th>Dep. Variable:</th>         <td>beauty</td>      <th>  R-squared:         </th> <td>   0.036</td>\n",
       "</tr>\n",
       "<tr>\n",
       "  <th>Model:</th>                   <td>OLS</td>       <th>  Adj. R-squared:    </th> <td>   0.034</td>\n",
       "</tr>\n",
       "<tr>\n",
       "  <th>Method:</th>             <td>Least Squares</td>  <th>  F-statistic:       </th> <td>   17.08</td>\n",
       "</tr>\n",
       "<tr>\n",
       "  <th>Date:</th>             <td>Tue, 13 Oct 2020</td> <th>  Prob (F-statistic):</th> <td>4.25e-05</td>\n",
       "</tr>\n",
       "<tr>\n",
       "  <th>Time:</th>                 <td>13:50:10</td>     <th>  Log-Likelihood:    </th> <td> -538.11</td>\n",
       "</tr>\n",
       "<tr>\n",
       "  <th>No. Observations:</th>      <td>   463</td>      <th>  AIC:               </th> <td>   1080.</td>\n",
       "</tr>\n",
       "<tr>\n",
       "  <th>Df Residuals:</th>          <td>   461</td>      <th>  BIC:               </th> <td>   1088.</td>\n",
       "</tr>\n",
       "<tr>\n",
       "  <th>Df Model:</th>              <td>     1</td>      <th>                     </th>     <td> </td>   \n",
       "</tr>\n",
       "<tr>\n",
       "  <th>Covariance Type:</th>      <td>nonrobust</td>    <th>                     </th>     <td> </td>   \n",
       "</tr>\n",
       "</table>\n",
       "<table class=\"simpletable\">\n",
       "<tr>\n",
       "    <td></td>       <th>coef</th>     <th>std err</th>      <th>t</th>      <th>P>|t|</th>  <th>[0.025</th>    <th>0.975]</th>  \n",
       "</tr>\n",
       "<tr>\n",
       "  <th>const</th> <td>   -1.0743</td> <td>    0.262</td> <td>   -4.094</td> <td> 0.000</td> <td>   -1.590</td> <td>   -0.559</td>\n",
       "</tr>\n",
       "<tr>\n",
       "  <th>eval</th>  <td>    0.2687</td> <td>    0.065</td> <td>    4.133</td> <td> 0.000</td> <td>    0.141</td> <td>    0.396</td>\n",
       "</tr>\n",
       "</table>\n",
       "<table class=\"simpletable\">\n",
       "<tr>\n",
       "  <th>Omnibus:</th>       <td>25.836</td> <th>  Durbin-Watson:     </th> <td>   0.962</td>\n",
       "</tr>\n",
       "<tr>\n",
       "  <th>Prob(Omnibus):</th> <td> 0.000</td> <th>  Jarque-Bera (JB):  </th> <td>  24.678</td>\n",
       "</tr>\n",
       "<tr>\n",
       "  <th>Skew:</th>          <td> 0.512</td> <th>  Prob(JB):          </th> <td>4.38e-06</td>\n",
       "</tr>\n",
       "<tr>\n",
       "  <th>Kurtosis:</th>      <td> 2.518</td> <th>  Cond. No.          </th> <td>    31.2</td>\n",
       "</tr>\n",
       "</table><br/><br/>Warnings:<br/>[1] Standard Errors assume that the covariance matrix of the errors is correctly specified."
      ],
      "text/plain": [
       "<class 'statsmodels.iolib.summary.Summary'>\n",
       "\"\"\"\n",
       "                            OLS Regression Results                            \n",
       "==============================================================================\n",
       "Dep. Variable:                 beauty   R-squared:                       0.036\n",
       "Model:                            OLS   Adj. R-squared:                  0.034\n",
       "Method:                 Least Squares   F-statistic:                     17.08\n",
       "Date:                Tue, 13 Oct 2020   Prob (F-statistic):           4.25e-05\n",
       "Time:                        13:50:10   Log-Likelihood:                -538.11\n",
       "No. Observations:                 463   AIC:                             1080.\n",
       "Df Residuals:                     461   BIC:                             1088.\n",
       "Df Model:                           1                                         \n",
       "Covariance Type:            nonrobust                                         \n",
       "==============================================================================\n",
       "                 coef    std err          t      P>|t|      [0.025      0.975]\n",
       "------------------------------------------------------------------------------\n",
       "const         -1.0743      0.262     -4.094      0.000      -1.590      -0.559\n",
       "eval           0.2687      0.065      4.133      0.000       0.141       0.396\n",
       "==============================================================================\n",
       "Omnibus:                       25.836   Durbin-Watson:                   0.962\n",
       "Prob(Omnibus):                  0.000   Jarque-Bera (JB):               24.678\n",
       "Skew:                           0.512   Prob(JB):                     4.38e-06\n",
       "Kurtosis:                       2.518   Cond. No.                         31.2\n",
       "==============================================================================\n",
       "\n",
       "Warnings:\n",
       "[1] Standard Errors assume that the covariance matrix of the errors is correctly specified.\n",
       "\"\"\""
      ]
     },
     "execution_count": 63,
     "metadata": {},
     "output_type": "execute_result"
    },
    {
     "data": {
      "image/png": "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