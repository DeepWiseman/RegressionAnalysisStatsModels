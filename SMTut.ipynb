{
 "cells": [
  {
   "cell_type": "markdown",
   "metadata": {},
   "source": [
    "## Linear Regressions with StatsModels"
   ]
  },
  {
   "cell_type": "markdown",
   "metadata": {},
   "source": [
    "Statsmodels is a great library we can use to run regressions. Regressions are used to analyze the relationships between dependent variables. We create a linear regressions by plotting a line that closely matches our data to make predictions on unknown data."
   ]
  },
  {
   "cell_type": "markdown",
   "metadata": {},
   "source": [
    "### Imports"
   ]
  },
  {
   "cell_type": "code",
   "execution_count": 66,
   "metadata": {
    "scrolled": false
   },
   "outputs": [],
   "source": [
    "# Provides numerous math functions related to linear algebra and more\n",
    "import numpy as np\n",
    "# Provides numerous tools for manipulating tabular data and more\n",
    "import pandas as pd\n",
    "# Used to create static and interactive graphical data plots\n",
    "import matplotlib.pyplot as plt\n",
    "%matplotlib inline\n",
    "# Provides numerous tools related to statistical data analysis\n",
    "import statsmodels.api as sm\n",
    "# Seaborn extends the capabilities of Matplotlib\n",
    "import seaborn as sns"
   ]
  },
  {
   "cell_type": "markdown",
   "metadata": {},
   "source": [
    "### Exploring Data"
   ]
  },
  {
   "cell_type": "code",
   "execution_count": 63,
   "metadata": {},
   "outputs": [
    {
     "data": {
      "text/html": [
       "<table class=\"simpletable\">\n",
       "<caption>OLS Regression Results</caption>\n",
       "<tr>\n",
       "  <th>Dep. Variable:</th>         <td>beauty</td>      <th>  R-squared:         </th> <td>   0.036</td>\n",
       "</tr>\n",
       "<tr>\n",
       "  <th>Model:</th>                   <td>OLS</td>       <th>  Adj. R-squared:    </th> <td>   0.034</td>\n",
       "</tr>\n",
       "<tr>\n",
       "  <th>Method:</th>             <td>Least Squares</td>  <th>  F-statistic:       </th> <td>   17.08</td>\n",
       "</tr>\n",
       "<tr>\n",
       "  <th>Date:</th>             <td>Tue, 13 Oct 2020</td> <th>  Prob (F-statistic):</th> <td>4.25e-05</td>\n",
       "</tr>\n",
       "<tr>\n",
       "  <th>Time:</th>                 <td>13:50:10</td>     <th>  Log-Likelihood:    </th> <td> -538.11</td>\n",
       "</tr>\n",
       "<tr>\n",
       "  <th>No. Observations:</th>      <td>   463</td>      <th>  AIC:               </th> <td>   1080.</td>\n",
       "</tr>\n",
       "<tr>\n",
       "  <th>Df Residuals:</th>          <td>   461</td>      <th>  BIC:               </th> <td>   1088.</td>\n",
       "</tr>\n",
       "<tr>\n",
       "  <th>Df Model:</th>              <td>     1</td>      <th>                     </th>     <td> </td>   \n",
       "</tr>\n",
       "<tr>\n",
       "  <th>Covariance Type:</th>      <td>nonrobust</td>    <th>                     </th>     <td> </td>   \n",
       "</tr>\n",
       "</table>\n",
       "<table class=\"simpletable\">\n",
       "<tr>\n",
       "    <td></td>       <th>coef</th>     <th>std err</th>      <th>t</th>      <th>P>|t|</th>  <th>[0.025</th>    <th>0.975]</th>  \n",
       "</tr>\n",
       "<tr>\n",
       "  <th>const</th> <td>   -1.0743</td> <td>    0.262</td> <td>   -4.094</td> <td> 0.000</td> <td>   -1.590</td> <td>   -0.559</td>\n",
       "</tr>\n",
       "<tr>\n",
       "  <th>eval</th>  <td>    0.2687</td> <td>    0.065</td> <td>    4.133</td> <td> 0.000</td> <td>    0.141</td> <td>    0.396</td>\n",
       "</tr>\n",
       "</table>\n",
       "<table class=\"simpletable\">\n",
       "<tr>\n",
       "  <th>Omnibus:</th>       <td>25.836</td> <th>  Durbin-Watson:     </th> <td>   0.962</td>\n",
       "</tr>\n",
       "<tr>\n",
       "  <th>Prob(Omnibus):</th> <td> 0.000</td> <th>  Jarque-Bera (JB):  </th> <td>  24.678</td>\n",
       "</tr>\n",
       "<tr>\n",
       "  <th>Skew:</th>          <td> 0.512</td> <th>  Prob(JB):          </th> <td>4.38e-06</td>\n",
       "</tr>\n",
       "<tr>\n",
       "  <th>Kurtosis:</th>      <td> 2.518</td> <th>  Cond. No.          </th> <td>    31.2</td>\n",
       "</tr>\n",
       "</table><br/><br/>Warnings:<br/>[1] Standard Errors assume that the covariance matrix of the errors is correctly specified."
      ],
      "text/plain": [
       "<class 'statsmodels.iolib.summary.Summary'>\n",
       "\"\"\"\n",
       "                            OLS Regression Results                            \n",
       "==============================================================================\n",
       "Dep. Variable:                 beauty   R-squared:                       0.036\n",
       "Model:                            OLS   Adj. R-squared:                  0.034\n",
       "Method:                 Least Squares   F-statistic:                     17.08\n",
       "Date:                Tue, 13 Oct 2020   Prob (F-statistic):           4.25e-05\n",
       "Time:                        13:50:10   Log-Likelihood:                -538.11\n",
       "No. Observations:                 463   AIC:                             1080.\n",
       "Df Residuals:                     461   BIC:                             1088.\n",
       "Df Model:                           1                                         \n",
       "Covariance Type:            nonrobust                                         \n",
       "==============================================================================\n",
       "                 coef    std err          t      P>|t|      [0.025      0.975]\n",
       "------------------------------------------------------------------------------\n",
       "const         -1.0743      0.262     -4.094      0.000      -1.590      -0.559\n",
       "eval           0.2687      0.065      4.133      0.000       0.141       0.396\n",
       "==============================================================================\n",
       "Omnibus:                       25.836   Durbin-Watson:                   0.962\n",
       "Prob(Omnibus):                  0.000   Jarque-Bera (JB):               24.678\n",
       "Skew:                           0.512   Prob(JB):                     4.38e-06\n",
       "Kurtosis:                       2.518   Cond. No.                         31.2\n",
       "==============================================================================\n",
       "\n",
       "Warnings:\n",
       "[1] Standard Errors assume that the covariance matrix of the errors is correctly specified.\n",
       "\"\"\""
      ]
     },
     "execution_count": 63,
     "metadata": {},
     "output_type": "execute_result"
    },
    {
     "data": {
      "image/png": "iVBORw0KGgoAAAANSUhEUgAAAYoAAAEGCAYAAAB7DNKzAAAABHNCSVQICAgIfAhkiAAAAAlwSFlzAAALEgAACxIB0t1+/AAAADh0RVh0U29mdHdhcmUAbWF0cGxvdGxpYiB2ZXJzaW9uMy4xLjMsIGh0dHA6Ly9tYXRwbG90bGliLm9yZy+AADFEAAAgAElEQVR4nO2de5xU1ZXvf4umlYYktA8w2tpCCEMmBLWVy+MyD0JC8BGxozHR0cTkRrjeO3kNk840Ez6KfshIPtzL3JvEm0QnuUmuxCioHRQiYpQ8GDFpBERURkQxNCokCPEBEZt1/6hTTdWpfarWrjq79jmn1vfz6U9X79q9n1VnnbP2ehAzQ1EURVGiGOR7AIqiKEqyUUGhKIqilEUFhaIoilIWFRSKoihKWVRQKIqiKGUZ7HsALjj55JN51KhRvoehKIqSGjZu3PgHZh5hei+TgmLUqFHo7e31PQxFUZTUQES7ot5T1ZOiKIpSFhUUiqIoSllUUCiKo