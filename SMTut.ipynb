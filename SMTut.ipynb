{
 "cells": [
  {
   "cell_type": "markdown",
   "metadata": {},
   "source": [
    "## Linear Regressions with StatsModels"
   ]
  },
  {
   "cell_type": "markdown",
   "metadata": {},
   "source": [
    "Statsmodels is a great library we can use to run regressions. Regressions are used to analyze the relationships between dependent variables. We create a linear regressions by plotting a line that closely matches our data to make predictions on unknown data."
   ]
  },
  {
   "cell_type": "markdown",
   "metadata": {},
   "source": [
    "### Imports"
   ]
  },
  {
   "cell_type": "code",
   "execution_count": 66,
   "metadata": {
    "scrolled": false
   },
   "outputs": [],
   "source": [
    "# Provides numerous math functions related to linear algebra and more\n",
    "import numpy as np\n",
    "# Provides numerous tools for manipulating tabular data and more\n",
    "import pandas as pd\n",
    "# Used to create static and interactive graphical data plots\n",
    "import matplotlib.pyplot as plt\n",
    "%matplotlib inline\n",
    "# Provides numerous tools related to statistical data analysis\n",
    "import statsmodels.api as sm\n",
    "# Seaborn extends the capabilities of Matplotlib\n",
    "import seaborn as sns"
   ]
  },
  {
   "cell_type": "markdown",
   "metadata": {},
   "source": [
    "### Exploring Data"
   ]
  },
  {
   "cell_type": "code",
   "execution_count": 63,
   "metadata": {},
   "outputs": [
    {
     "data": {
      "text/html": [
       "<table class=\"simpletable\">\n",
       "<caption>OLS Regression Results</caption>\n",
       "<tr>\n",
       "  <th>Dep. Variable:</th>         <td>beauty</td>      <th>  R-squared:         </th> <td>   0.036</td>\n",
       "</tr>\n",
       "<tr>\n",
       "  <th>Model:</th>                   <td>OLS</td>       <th>  Adj. R-squared:    </th> <td>   0.034</td>\n",
       "</tr>\n",
       "<tr>\n",
       "  <th>Method:</th>             <td>Least Squares</td>  <th>  F-statistic:       </th> <td>   17.08</td>\n",
       "</tr>\n",
       "<tr>\n",
       "  <th>Date:</th>             <td>Tue, 13 Oct 2020</td> <th>  Prob (F-statistic):</th> <td>4.25e-05</td>\n",
       "</tr>\n",
       "<tr>\n",
       "  <th>Time:</th>                 <td>13:50:10</td>     <th>  Log-Likelihood:    </th> <td> -538.11</td>\n",
       "</tr>\n",
       "<tr>\n",
       "  <th>No. Observations:</th>      <td>   463</td>      <th>  AIC:               </th> <td>   1080.</td>\n",
       "</tr>\n",
       "<tr>\n",
       "  <th>Df Residuals:</th>          <td>   461</td>      <th>  BIC:               </th> <td>   1088.</td>\n",
       "</tr>\n",
       "<tr>\n",
       "  <th>Df Model:</th>              <td>     1</td>      <th>                     </th>     <td> </td>   \n",
       "</tr>\n",
       "<tr>\n",
       "  <th>Covariance Type:</th>      <td>nonrobust</td>    <th>                     </th>     <td> </td>   \n",
       "</tr>\n",
       "</table>\n",
       "<table class=\"simpletable\">\n",
       "<tr>\n",
       "    <td></td>       <th>coef</th>     <th>std err</th>      <th>t</th>      <th>P>|t|</th>  <th>[0.025</th>    <th>0.975]</th>  \n",
       "</tr>\n",
       "<tr>\n",
       "  <th>const</th> <td>   -1.0743</td> <td>    0.262</td> <td>   -4.094</td> <td> 0.000</td> <td>   -1.590</td> <td>   -0.559</td>\n",
       "</tr>\n",
       "<tr>\n",
       "  <th>eval</th>  <td>    0.2687</td> <td>    0.065</td> <td>    4.133</td> <td> 0.000</td> <td>    0.141</td> <td>    0.396</td>\n",
       "</tr>\n",
       "</table>\n",
       "<table class=\"simpletable\">\n",
       "<tr>\n",
       "  <th>Omnibus:</th>       <td>25.836</td> <th>  Durbin-Watson:     </th> <td>   0.962</td>\n",
       "</tr>\n",
       "<tr>\n",
       "  <th>Prob(Omnibus):</th> <td> 0.000</td> <th>  Jarque-Bera (JB):  </th> <td>  24.678</td>\n",
       "</tr>\n",
       "<tr>\n",
       "  <th>Skew:</th>          <td> 0.512</td> <th>  Prob(JB):          </th> <td>4.38e-06</td>\n",
       "</tr>\n",
       "<tr>\n",
       "  <th>Kurtosis:</th>      <td> 2.518</td> <th>  Cond. No.          </th> <td>    31.2</td>\n",
       "</tr>\n",
       "</table><br/><br/>Warnings:<br/>[1] Standard Errors assume that the covariance matrix of the errors is correctly specified."
      ],
      "text/plain": [
       "<class 'statsmodels.iolib.summary.Summary'>\n",
       "\"\"\"\n",
       "                            OLS Regression Results                            \n",
       "==============================================================================\n",
       "Dep. Variable:                 beauty   R-squared:                       0.036\n",
       "Model:                            OLS   Adj. R-squared:                  0.034\n",
       "Method:                 Least Squares   F-statistic:                     17.08\n",
       "Date:                Tue, 13 Oct 2020   Prob (F-statistic):           4.25e-05\n",
       "Time:                        13:50:10   Log-Likelihood:                -538.11\n",
       "No. Observations:                 463   AIC:                             1080.\n",
       "Df Residuals:                     461   BIC:                             1088.\n",
       "Df Model:                           1                                         \n",
       "Covariance Type:            nonrobust                                         \n",
       "==============================================================================\n",
       "                 coef    std err          t      P>|t|      [0.025      0.975]\n",
       "------------------------------------------------------------------------------\n",
       "const         -1.0743      0.262     -4.094      0.000      -1.590      -0.559\n",
       "eval           0.2687      0.065      4.133      0.000       0.141       0.396\n",
       "==============================================================================\n",
       "Omnibus:                       25.836   Durbin-Watson:                   0.962\n",
       "Prob(Omnibus):                  0.000   Jarque-Bera (JB):               24.678\n",
       "Skew:                           0.512   Prob(JB):                     4.38e-06\n",
       "Kurtosis:                       2.518   Cond. No.                         31.2\n",
       "==============================================================================\n",
       "\n",
       "Warnings:\n",
       "[1] Standard Errors assume that the covariance matrix of the errors is correctly specified.\n",
       "\"\"\""
      ]
     },
     "execution_count": 63,
     "metadata": {},
     "output_type": "execute_result"
    },
    {
     "data": {
      "image/png": "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