{
 "cells": [
  {
   "cell_type": "markdown",
   "metadata": {},
   "source": [
    "## Linear Regressions with StatsModels"
   ]
  },
  {
   "cell_type": "markdown",
   "metadata": {},
   "source": [
    "Statsmodels is a great library we can use to run regressions. Regressions are used to analyze the relationships between dependent variables. We create a linear regressions by plotting a line that closely matches our data to make predictions on unknown data."
   ]
  },
  {
   "cell_type": "markdown",
   "metadata": {},
   "source": [
    "### Imports"
   ]
  },
  {
   "cell_type": "code",
   "execution_count": 66,
   "metadata": {
    "scrolled": false
   },
   "outputs": [],
   "source": [
    "# Provides numerous math functions related to linear algebra and more\n",
    "import numpy as np\n",
    "# Provides numerous tools for manipulating tabular data and more\n",
    "import pandas as pd\n",
    "# Used to create static and interactive graphical data plots\n",
    "import matplotlib.pyplot as plt\n",
    "%matplotlib inline\n",
    "# Provides numerous tools related to statistical data analysis\n",
    "import statsmodels.api as sm\n",
    "# Seaborn extends the capabilities of Matplotlib\n",
    "import seaborn as sns"
   ]
  },
  {
   "cell_type": "markdown",
   "metadata": {},
   "source": [
    "### Exploring Data"
   ]
  },
  {
   "cell_type": "code",
   "execution_count": 63,
   "metadata": {},
   "outputs": [
    {
     "data": {
      "text/html": [
       "<table class=\"simpletable\">\n",
       "<caption>OLS Regression Results</caption>\n",
       "<tr>\n",
       "  <th>Dep. Variable:</th>         <td>beauty</td>      <th>  R-squared:         </th> <td>   0.036</td>\n",
       "</tr>\n",
       "<tr>\n",
       "  <th>Model:</th>                   <td>OLS</td>       <th>  Adj. R-squared:    </th> <td>   0.034</td>\n",
       "</tr>\n",
       "<tr>\n",
       "  <th>Method:</th>             <td>Least Squares</td>  <th>  F-statistic:       </th> <td>   17.08</td>\n",
       "</tr>\n",
       "<tr>\n",
       "  <th>Date:</th>             <td>Tue, 13 Oct 2020</td> <th>  Prob (F-statistic):</th> <td>4.25e-05</td>\n",
       "</tr>\n",
       "<tr>\n",
       "  <th>Time:</th>                 <td>13:50:10</td>     <th>  Log-Likelihood:    </th> <td> -538.11</td>\n",
       "</tr>\n",
       "<tr>\n",
       "  <th>No. Observations:</th>      <td>   463</td>      <th>  AIC:               </th> <td>   1080.</td>\n",
       "</tr>\n",
       "<tr>\n",
       "  <th>Df Residuals:</th>          <td>   461</td>      <th>  BIC:               </th> <td>   1088.</td>\n",
       "</tr>\n",
       "<tr>\n",
       "  <th>Df Model:</th>              <td>     1</td>      <th>                     </th>     <td> </td>   \n",
       "</tr>\n",
       "<tr>\n",
       "  <th>Covariance Type:</th>      <td>nonrobust</td>    <th>                     </th>     <td> </td>   \n",
       "</tr>\n",
       "</table>\n",
       "<table class=\"simpletable\">\n",
       "<tr>\n",
       "    <td></td>       <th>coef</th>     <th>std err</th>      <th>t</th>      <th>P>|t|</th>  <th>[0.025</th>    <th>0.975]</th>  \n",
       "</tr>\n",
       "<tr>\n",
       "  <th>const</th> <td>   -1.0743</td> <td>    0.262</td> <td>   -4.094</td> <td> 0.000</td> <td>   -1.590</td> <td>   -0.559</td>\n",
       "</tr>\n",
       "<tr>\n",
       "  <th>eval</th>  <td>    0.2687</td> <td>    0.065</td> <td>    4.133</td> <td> 0.000</td> <td>    0.141</td> <td>    0.396</td>\n",
       "</tr>\n",
       "</table>\n",
       "<table class=\"simpletable\">\n",
       "<tr>\n",
       "  <th>Omnibus:</th>       <td>25.836</td> <th>  Durbin-Watson:     </th> <td>   0.962</td>\n",
       "</tr>\n",
       "<tr>\n",
       "  <th>Prob(Omnibus):</th> <td> 0.000</td> <th>  Jarque-Bera (JB):  </th> <td>  24.678</td>\n",
       "</tr>\n",
       "<tr>\n",
       "  <th>Skew:</th>          <td> 0.512</td> <th>  Prob(JB):          </th> <td>4.38e-06</td>\n",
       "</tr>\n",
       "<tr>\n",
       "  <th>Kurtosis:</th>      <td> 2.518</td> <th>  Cond. No.          </th> <td>    31.2</td>\n",
       "</tr>\n",
       "</table><br/><br/>Warnings:<br/>[1] Standard Errors assume that the covariance matrix of the errors is correctly specified."
      ],
      "text/plain": [
       "<class 'statsmodels.iolib.summary.Summary'>\n",
       "\"\"\"\n",
       "                            OLS Regression Results                            \n",
       "==============================================================================\n",
       "Dep. Variable:                 beauty   R-squared:                       0.036\n",
       "Model:                            OLS   Adj. R-squared:                  0.034\n",
       "Method:                 Least Squares   F-statistic:                     17.08\n",
       "Date:                Tue, 13 Oct 2020   Prob (F-statistic):           4.25e-05\n",
       "Time:                        13:50:10   Log-Likelihood:                -538.11\n",
       "No. Observations:                 463   AIC:                             1080.\n",
       "Df Residuals:                     461   BIC:                             1088.\n",
       "Df Model:                           1                                         \n",
       "Covariance Type:            nonrobust                                         \n",
       "==============================================================================\n",
       "                 coef    std err          t      P>|t|      [0.025      0.975]\n",
       "------------------------------------------------------------------------------\n",
       "const         -1.0743      0.262     -4.094      0.000      -1.590      -0.559\n",
       "eval           0.2687      0.065      4.133      0.000       0.141       0.396\n",
       "==============================================================================\n",
       "Omnibus:                       25.836   Durbin-Watson:                   0.962\n",
       "Prob(Omnibus):                  0.000   Jarque-Bera (JB):               24.678\n",
       "Skew:                           0.512   Prob(JB):                     4.38e-06\n",
       "Kurtosis:                       2.518   Cond. No.                         31.2\n",
       "==============================================================================\n",
       "\n",
       "Warnings:\n",
       "[1] Standard Errors assume that the covariance matrix of the errors is correctly specified.\n",
       "\"\"\""
      ]
     },
     "execution_count": 63,
     "metadata": {},
     "output_type": "execute_result"
    },
    {
     "data": {
      "image/png": "iVBORw0KGgoAAAANSUhEUgAAAYoAAAEGCAYAAAB7DNKzAAAABHNCSVQICAgIfAhkiAAAAAlwSFlzAAALEgAACxIB0t1+/AAAADh0RVh0U29mdHdhcmUAbWF0cGxvdGxpYiB2ZXJzaW9uMy4xLjMsIGh0dHA6Ly9tYXRwbG90bGliLm9yZy+AADFEAAAgAElEQVR4nO2de5xU1ZXvf4umlYYktA8w2tpCCEMmBLWVy+MyD0JC8BGxozHR0cTkRrjeO3kNk840Ez6KfshIPtzL3JvEm0QnuUmuxCioHRQiYpQ8GDFpBERURkQxNCokCPEBEZt1/6hTTdWpfarWrjq79jmn1vfz6U9X79q9n1VnnbP2ehAzQ1EURVGiGOR7AIqiKEqyUUGhKIqilEUFhaIoilIWFRSKoihKWVRQKIqiKGUZ7HsALjj55JN51KhRvoehKIqSGjZu3PgHZh5hei+TgmLUqFHo7e31PQxFUZTUQES7ot5T1ZOiKIpSFhUUiqIoSllUUCiKoihlUUGhKIqilMWboCCiM4joESJ6moi2EdGXDHWIiL5JRDuI6AkiOtfHWBVFURoZn1ZPbwP4R2Z+nIjeCWAjEa1l5qcK6lwAYGzwMxnAd4LfiqIoSp3wJiiY+SUALwWvXyOipwG0ASgUFJcA+DHnQtxuIKJWIjo1+F9FqRs9m/qwZM127DlwCKe1tqBr1jh0drQlrk0lPmz2J+t7mQg/CiIaBaADwGOht9oA/L7g791BWYmgIKK5AOYCQHt7u4thKg1Kz6Y+zL9nKw4d6QcA9B04hPn3bAWAqi8GLtpU4sNmfxphL70fZhPROwDcDeDLzPyn8NuGfzEm0GDmW5l5IjNPHDHC6FyoKFWxZM32gYtAnkNH+rFkzfZEtanEh83+NMJeehUURNSMnJBYxsz3GKrsBnBGwd+nA9hTj7EpSp49Bw5ZlftqU4kPm/1phL30afVEAL4P4GlmXhpRbSWATwfWT1MAHNTzCaXenNbaYlXuq00lPmz2pxH20ucTxTQAnwIwg4g2Bz8XEtF1RHRdUGc1gJ0AdgC4DcB/9zRWpYHpmjUOLc1NRWUtzU3omjUuUW0q8WGzP42wlz6tnn4D8xlEYR0G8Pf1GZGimMkfSMZp1eKiTSU+bPanEfaSctfibDFx4kTW6LGKoihyiGgjM080vefd6klRFEVJNiooFEVRlLKooFAURVHKkgjPbEVR6suCnq2447Hfo58ZTUS4cvIZWNQ5wVg36+Epopi5dB2e3fvGwN9jRw7D2nnTjXVdrNFVtz2K9c/tH/h72pgTsWzO1JJ6NntZLXqYrSgC0hLrSdLmgp6tuH3DiyX/e/WU9pILTDg8BZAz/bz50gmZFhZhIZHHJCxcrFFYSOQJCwubvayEHmYrSg3kLwR9Bw6BcSyWT8+mvlS2ecdjvzf+v6m8EcJTmDAJiahyF2tkEhKmcpu9rAUVFIpSgbTEepK22R+hRTCVN0J4ilrxuUY2e1kLKigUpQJpifUkbbOJzH6upvJGCE9RKz7XyGYva0EFhaJUIC2xnqRtXjn5DGM9U3kjhKcwMXbkMHG5izWaNuZEUbnNXtaCCgpFqUBaYj1J21zUOQFXT2kfuOtsIoo8/OzsaMPNl05AW2sLCEBba0vmD7IBYO286SVCIcrqycUaLZsztUQomKyebPayFtTqSVEEZMnqSVFMlLN6UkGhKIqiqHmsoiiKUj0qKBRFUZSyqKBQFEVRyqKCQlEURSmLCgpFURSlLCooFEVRlLJomHFFaUCy6G+RpLDcWcPrEwUR/YCI9hLRkxHvTyeig0S0Ofi5vt5jVJSs4SJyrW9MYbnXP7cfV932aFFZPix3PmhePzNu3/AiFvRsrdtY04hv1dMPAZxfoc6vmfmc4OemOoxJUTJNFkOHJy0sd9bwKiiY+VcAzDusKIoTGjl0eL3CcmcN308UEqYS0RYi+jkRjY+qRERziaiXiHr37dtXz/EpSqpo5NDh9QrLnTWSLigeB3AmM58N4FsAeqIqMvOtzDyRmSeOGDGibgNUlLSRxdDhSQvLnTUSbfXEzH8qeL2aiP4PEZ3MzH/wOS5FqTdxWinl/8+n1VPcVlfL5kwVWT3lrZvU6skO79FjiWgUgPuZ+QOG994N4BVmZiKaBGAFck8YZQet0WOVLJG3Uio8gG5pbkptXoiszScrJDZ6LBHdAeBRAOOIaDcRfY6IriOi64IqHwfwJBFtAfBNAFdUEhKKkjWyZqWUtfk0Al5VT8x8ZYX3vw3g23UajqIkkqxZKWVtPo1Aos8olMYgi17CcXJaawv6DBfRtFopZW0+QPY/w0m3elIyTha9hOPmg+8zW/FFlSedrFldNcJnWAWF4hXVV1fmkWfMfkFR5Umns6MNN186AW2tLSAAba0tqT7IboTPsKqeFK+ovroyWVyjzo621AqGMFncnzD6RKF4pZG9hKXoGiWbRtgfFRSKV7Kmr3aBrlGyaYT9UdWT4hUXXsJZs0CxWaO05FqQ7pE0x4RNm3HXs9mftH42vXtmu0A9sxuXRvb6zedaCHP1lPZECQvpHplyTABmYSFtM+56Lubti8R6ZitK3DSCBUoUacm1IN0jaY4JmzbjrmdDmj+bKiiUTNEIFihRpCXXgos9krYZdz0b0vzZVEGhZIpGsECJIi25FlzskbTNuOvZkObPpgoKxTs9m/owbfHDGN29CtMWPxzp0SqplyYLFOm8pXVtci3Y9B030j2S5pjIt9ncVCwQm5uopE1p37afo6x9NsOo1ZPilfABXz78AYCyh4tR9ZKQa0GCdD42daW5Fmz6doF0jy6f2G48j7h8Yru54bCGzaBxk/Zta8mUpc+mCbV6UrwybfHDxgBxba0tWN89w7peWrCZT9xzT8ta+lwjG9KynpVQqyclsfg8XPSJzXzinnta1tLnGtmQlvWsBRUUild8Hi76xGY+cc89LWvpc41sSMt61oIKCsUrrg4X4ybuw9+uWePQPCh0+Dqo9PA1XzfOuUsPfl2yoGcrxsxfjVHdqzBm/mos6NlaUsdm3jZzkvRtg03fPo0IakEPsxWvuDhctEESUsHZ4W/YajXCirWzow29u/YXHVJfdp45+qo0RMTb/Vz272ralNYLe5D3Mw/8XXjwbr3ngsNsad/WCPr2bURQC3qYrTQs0pAKLg4rbdqMO+zE+OsfwBtvFXsIA8Cw45qw7abznfYNAGPmrzY6ATYR4bmbLywplyBdT599J/3QO7GH2UT0AyLaS0RPRrxPRPRNItpBRE8Q0bn1HqOSXaQhFXx76cYddsIkJKLKXYS8cOFBLl1Pn32n+dDb9xnFDwGcX+b9CwCMDX7mAvhOHcak1BlfelvpF9e3l24awk7Y9O3Cg1y6njZ9Sz+XjWCQ4VVQMPOvAJgjf+W4BMCPOccGAK1EdGp9RqfUA5/5hqVfXBcH6TZtDm9pNrYRLpfOJ+pybCpvHWruO1xucxG08SCXIl1Pad82n8u0GGTUgu8nikq0ASgMfbk7KFMygs+ImtIvrosczzZtRt1oh8ul87lqitmz2VQepZEJl9tcBBd1TsDVU9oH7uKbiGoOhS5dT2nfNp9Lad9pzhXu/TCbiEYBuJ+ZP2B4bxWAm5n5N8HfvwDwVWbeaKg7Fzn1FNrb28/btWuXy2ErMTG6e5XJQAQE4PnFFznv30UimbjbtFkjG8sjSYIjF32nAd+fSx+UO8xOunnsbgCFz4SnA9hjqsjMtwK4FchZPbkfmhIHp7W2GC1B6qW37ewwm5lWiwsTSJs1ks5nUecE0R28i77TgO/PZdJIuuppJYBPB9ZPUwAcZOaXfA9KiY80621NuFCl+VyjrO2PlEaddxRenyiI6A4A0wGcTES7AdwAoBkAmPm7AFYDuBDADgBvAvisn5EqrkhzRE0TLiyPXKyRVPWUtf0BZHPv7GjD8t4Xi6LXnts+PHLeWVK7mfB+RuECdbhTfJF0pyogPbm1XSCdu80aJT0XtpTEOtwpStZIg8oiLbm1XSCdu80apTkXtpSkH2YrSqpIg6omLbm1XSCdu80apdnjWooKCkWJmaRb/zQRRcY7yjrSudusUSNYSKnqSVEaDBee0WlBOnebNUqDurFW9IlCURoMaW7tLCKdu80apUHdWCtq9aQoKSBu88usm3Mq9qTZM1tRUoeLi7rU2/uq2x4tsv2fNuZELJszter2XMzHVZuKO/SJQlFixIVNvdQ3IywkBv4/JCxcJE3K15Vmwou7TUDuROhT8EnH6AP1o1CUOuHCpl5qfmkSEqZyF0mTbMJyu2gz7yCXt1TKpzgN58N2EdZe2qZ0jElEBYWixIgLm/q4E964SJpkIyBdtCl1kHMhyKVtptnRUQWFosSIiyxmcZtf2rQnnY+NgHTRptRBzmcWwDQ7OqqgUJQYcWFTL014M23Micb/D5fbJNCRzsdGQLpoU5ri1GdaWxcpYOuFCgpFiRFXWcw6O9qwvnsGnl98EdZ3zzC2t2zO1BKhYLJ6krZnMx8bAWnTZnNT8UW0uYmMbUod5HymtU2zo6OaxypKzPgM4WESCrUimU9nRxt6d+0vsui57Lzo/+vdtR8vHzwMBvDywcPo3bXfXDeslYnQ0izqnIDn971eYhpsCh8OxOscJ20zzY6Oah6rKErN2Ji8SkN4uzLjVcyoeayiKE5xYaHkwowXyAmVaYsfxujuVZi2+OFI01hpPRtctFkPVPWkKCkg6SE8XFgoDWkehENHjpbUG9Jcen9revIwlUu90ns29aFr+RYcOcoD9bqWbympZ4OLfOr1QgWF4gQXHqiNGkoi7guMiwuWi1Dbf367VEhElRMBJvkTNigq9+RROPeFK7cNCIk8R44yFq7cVvUaSftOIioolNgJ66DzHqgAqhYWLi5uabnDi/sC4+KC1TVrnPGMoBZroqMRx6em8qij1nC59MnnwKEjxnpR5ZIbDlcJjmYuXYdn974x8PfYkcOwdt70mtoMo2cUSuy48ED16VHrm7gvMFI1jQ0uzIKjvAtq8Tpw4UchDeHhou+wkACAZ/e+gZlL11XdpgmvgoKIziei7US0g4i6De9/hoj2EdHm4OdaH+NU7HDhgerTo9Y3Li4wLpD6ZgyKuNKHy4ce12SsZyo/YWizsW64XOrzIB0jIL/hcOHDERYSlcqrxZugIKImALcAuADA+wFcSUTvN1S9k5nPCX7+ra6DVKrChQeqT49a32Qtg5pUpfTmW/3GeqbyGy4eb3TOu+Hi8UVl0icfG7WX9IbDlTNmPfB5RjEJwA5m3gkARPRTAJcAeMrjmJQYuHLyGUY7+Vo8UF3owF206YK4ncR858xuizj4bgsJaJsDcps1kjgQSsdYzTjTIBjCiAQFEfUC+L8AfsLMr8bUdxuAQqX1bgCTDfUuI6K/AfAfAP6BmY2KbiKaC2AuALS3t8c0RKUaXHig+vSoTQJxXmBcCHIbpALaVpDHuUY2ffu84Rg7cphRzTR25LBY+xF5ZhPRewF8FsAnAeSFxoNcg1s3EV0OYBYzXxv8/SkAk5j5CwV1TgLwOjP/mYiuA/AJZp5hbvEY6pmtKOXxnUDHJsmRL0Fu07fPccZl9VTOM9sqhAcRDQLwUQDfAXAUwA8A/G9mNmdMKd/WVAALmXlW8Pd8AGDmmyPqNwHYz8zDK7WtgqKxcZEVTalMGnxSlGhiyZlNRGch91RxIYC7ASwD8FcAHgZwThXj+h2AsUQ0GkAfgCsA/F2oz1OZ+aXgz9kAnq6iH6/ol6e+2PhGuPD3aFTS4pOiVIfI6omINgL4V+Qu7mcx8xeZ+TFm/p8AdlbTMTO/DeDzANYgJwDuYuZtRHQTEc0Oqn2RiLYR0RYAXwTwmWr68oWLtItZJM74Ny5iDimVSYtPilId0ieKy/PWSXmIaDQzP8/Ml1bbOTOvBrA6VHZ9wev5AOZX275v0uyyXy/ivhN1EXNIqUxafFKU6pD6UawQlikF6JenMnHfibrIiqZUJi0+KUp1lBUURPQ+IroMwHAiurTg5zMAhtRlhClGvzyViVuY2jin2WQcS0t4aF/jzJpToFJMJdXTOOSsnFoBXFxQ/hqAOa4GlRXS4tDlk7ijjtr4Rkj9PdJyUOtznGnySVHskfpRTGXmR+swnlhIknmsWj2VJw2ZyWwyrdkQt52+q3H6JC2+DFkgDvPYuURU8gTBzP+lppE1AGl12a8XabgTdXHWZHP3L62bpjMxif+KizWyoVHzn5iQCor7C14PAfAxAHviH47SiCRdmLpIymNjESet62KcLpD6r7hYIymNnP/EhEhQMPPdhX8T0R0AHnIyIkWJwNfdWNescehasQVH+o+paZubKPKsSXK3bHP3L61rcybm8862nP9K4Tq5WCNAtj8uTNvTbC5fbfTYsQA08l5GSMPjcM+mvqKLdd+BQ+haUVsOYyvCR3kRR3vSu2Wbu39pXakaz/bONu7Ph9R/xWaNpPm1pfvTyPlPTEg9s18joj/lfwO4D8A/uR2aUg/S4j1+433biu7oAeBIP+PG+7bV1K7EnHTJmu3G/Mm1eHt3zRqH5lAWnOZB5qeUrlnjSr6og4LyMMt7Xyzay+W9pVFibXxXejb1Yd5dm4vanHfX5rp8PmxMbqX5taX708j5T0yIBAUzv5OZ31Xw+y/C6iglnaQl9MKrb5pzFUeVS5AKSWfe3mG/vgg/v95d+xG+DB4Nygu56rZHsf654rL1z+3HVbcVGyzapEL953ueKEnWc5Rz5a6xSfQjTTQk3Z9RJ5kv3lHlEtLsa2ITFPAE5FROA452zPwrF4NS6keaH4drxech8ZI1241PSCZ9tVSnHxYSlcolvGlQ55Qrl2CTFEhq6CBNxiStt2GnOe1OVLmENFj4RSFNXHQtgC8BOB3AZgBTADwKIJ3G2coAabGUaW1pxoFDpU8PrS3mXMkSXBwSx903kL2YVC4O3aXJmKT1bNdcOs6kW/hFIY319CUA/wnALmb+IIAOAPucjUqpG2l5HF44e7xRp79w9viI/6iMVGdsowI5YahZcIXLfcaksmkvqotawmFJ19Pm/GxR5wRcPaV9YA5NRLh6SnuJNdPz+143jilcbrNGaTnnqwWp6ukwMx8mIhDR8cz8DBEl60qiVEVaHoddjNPmzlZ6Jxh1kx8ut+lbehfcPAgwaYRChj9WqVCvmtxurHvV5NqMHiXraWtOuqhzQsU8IlL1nM0apdnsVYpUUOwmolYAPQDWEtGrUIe7zJCWx+G4x+lC+Bw0qMdM5S5iUkUY/pSU2+Q0d5H/XIrP8zObeTfCOZ9VKlQAIKK/BTAcwAPM/JaTUdVIkmI9KY1Fx00PGi2xThjajE3Xf8Rp31mL9eRiPqO6V0W+98Lii6pqMyvrXi7Wk/SMAkT0V0T0WWb+JXIH2cm/BVWUOiNVPbkgLedNUlzMZ9qYE63KJWRt3U1IHe5uQM7BLp9trhnA7a4GpShpRap6coHNoXsacDGfZXOmlgiFaWNOxLI5UxM1zqQhDTO+GTlLp8eZuSMoe4KZz3I8vqpQ1VO6kMTescFn1E8bNUTYQa7WC5YNGr5bCROH6uktzkkUDhocFtfglMYmH3snb5+ej72zoGdrVe25MFW0afOD7xthbCNcLvWidoHNfBrB9FOpjFRQ3EVE3wPQGuSleAjAbbV2TkTnE9F2ItpBRN2G948nojuD9x8jolG19qkkC2nsHSkuQpLYtPnIM2b3onC5Cy9qKTbzSUuIF98s6NmKMfNXY1T3KoyZv7rqG52kIg0z/j+IaCaAPyGXHvV6Zl5bS8dE1ATgFgAzAewG8DsiWsnMTxVU+xyAV5n5vUR0BYBvAPhkLf0qySJur2PfUT9dmUrGqf6xGaNNXCgbFaJ0PmlQkUkj0qYZsdUTM69l5i4AixFPLopJAHYw887AzPanAC4J1bkEwI+C1ysAfIioFp9QJWlEbWa1m+wiQmc4VHW58paIulHlEuJW/7jwCrdRIUrnkxYVWdxPxUmk7KeXiKYQ0ToiuoeIOojoSQBPAniFiM6vse82AIUruRulJrcDdZj5bQAHAZwUMda5RNRLRL379ml0kbQw9Lgmq/JKuDBVlIawBoBDEXXD5TZmmrZhwSuFTY9aC1O59InP5mIpnU9aVGRZi8VlopLq6dsA/hk5B7uHAVzAzBuI6H0A7gDwQA19m25VwisrqZMrZL4VwK1AzuqphnEpdeTNt/qtyivhwttaGsIakPtRXD6xHY/u3F/UxiDKlYeRqop6NvWha/mWgdwZfQcOoWt5aXKnWx551tjeLY88W7JOLREJgcJPSDYXS6k6y0btZVM3bhWVNCKtLT6t4sJUeh4ezMwPMvNyAC8z8wYAYOZnYuh7N4DCwCmnozQsyEAdIhqMnMByf9qnRCK5Y7XBRg0i7bt31368fPAwGMDLBw+X5G1wiTSI3pI12415Hkx3wNI1WrhymzHB0sKVxcmdnt37hrE9U7lJSJQr94VUhelCRWWK/1SuXIJPqzgTlQRF4achLJprvWv/HYCxRDSaiI4DcAWAlaE6KwFcE7z+OICH2TbmiBIbLr5kUnNSad9xm9va0jI44owiVG5zoCxdI1MY9nLlWSLqohAuj1uNBwATzzzRmIFw4pmlakRpmz6t4kxUEhRn51OgAjgreJ3/u6bj/ODM4fMA1gB4GsBdzLyNiG4iotlBte8DOImIdgCYB6DEhFapHy70wFJzUmnftgeLki+uKaFOVLn0DtzmSUq6RkplpCoqm5uiJWu2GzMQhj+bafZJKSsomLmpIAXq4OB1/u/qM8Yca391kFZ1DDN/PSi7nplXBq8PM/PlzPxeZp7EzDtr7VOpHp+mp9J6Nrpy6RfX5oBcKgBs2myE6KRJw+amSLo/afZJqd5mT2k4fCacl9azSTgj/eLaxPKRCoDOjjZcdl5bUaKdy84zh1GXzl2aNMmFCa8N0nGOHWkOABFVHic2wlm6PzZtugheWAsqKBQxUl25DdILq7SezcGizRe3s6MN67tn4PnFF2F994xIKxmb7G13b+wrOku5e2NfpDmrZO43XDwezU2hLIBNhBsuLs4CeDhCPRZVLsFG+EjHuXbe9BKhMHbkMKydN72kTekNgrSezU2RdH9s2nQRvLAWpImLFMWJrlxqziqtZ5NwxlW+8Lizt8W9Ri7mffOlZ2HenZuLdPWDgvIwNibMJqFgIu6c2bbZDyXzsc297ksomLBOXJQGNHqsG0Z3rzJalxCA56tM+uKT/BlF+ItbjxDRPtfSZt4mM03AfHfrO8qsNISItJ7PKMQ+KBc9VgWFIiYrmbwK8fXF9b2WNvNOkuOX4g4VFEos+LwDzxq6lvETt9C3aS/unCq2/cdBOUGhZxQpw+ejq4vwGDa4+DL66ruzow3Le18sulM/t3144iKjuiLu6LFhwZs3dQZQUn/m0nVFXuimA3Kb9lxEj7Xpvx7oE0WKaOS70PCXMc/VU9qdCwsXfdu0mbV9l87HZt5SVV5YSOQJCwsb1eCY+asjYz09d/OFJeUSfKgm48hwpySANDvs1IrPUM4u+nYRbTUtuIgeKzV1lsa5sjGddhE9NmlOlqp6ShFJ+/DUE5+hnG37lqhLbNr0ve9xq93i9sYH4jf5tWnPRfRYV6bb1aJPFCnChWd0WrDxuPbZtzQsiE2bPvfdRZDF1gjP7HD58BZzPVN53HlIbNpzET3WRV6VWlBBkSKS9uGpJy6+jIAsKKBN31J1yXtGDDW2aSp34REvxYXaTZqz4623zTlJTOVSj/hT3nmcsc1wuU3YlkWdE3D1lPaicCy1np3Z9F8PVPWUInxbHfnExuNaitSyZOKZJ+KO3/4e/QW5HpoGkTGMtFRdsnPfm8Z6pnKf0WNdqPwORoQ9D5e/GRFSJKpc4hE/uMmcOdFULmkvz6LOCbEbVdj07xoVFCkjSR+eehP3l1EaRmPJmu1FQgIA+o+yMdyGVLecljOKrOnffZ/3pBVVPSkNi4tDVal6MC1nFDZqN2lSHukaSaPM2vRvs5YLerZizPzVGNW9CmPmr65b8qskooJCaVjiDnEOyHXLNhdgn2dTUv27TVIe6RpddNapxjGZyqX9Dz3OfMkLl/vOlJg01OFOaVhcOH7ZYGN2mnTPbBcOYjZtSuuO6l4V2d8LBcEYXTjRJR0N4aEoBuIO322LzZlL0s+mfGY/dNG/T7+dJKKCQmlopBfgpF+ofePigNqmzbj7d3GIn2a8nFEQ0YlEtJaIng1+nxBRr5+INgc/K+s9TkVRZLg4R4n6X1N516xxaB4Uypo3iErqSlOM2vrtSA/ypfVs67rG12F2N4BfMPNYAL8I/jZxiJnPCX5m1294jUWSPpDlUCuU5OLCQeyWR561Kkf4Zt9w8y9NMTrxzBPRFBI8Ub4z0oN0mwN/m7r1wMthNhFtBzCdmV8iolMBrGPmktsEInqdmd9h274eZstJS2RSn9FjGx1fB+nSg2cg/sN0FwfpLtqMkyRGjz2FmV8CgOD3yIh6Q4iol4g2EFFn/YbXOKQlMqnP6LGNTNLubKOI+zDbdJGOKpf27aLNeuHsMJuIHgLwbsNbX7Nopp2Z9xDRewA8TERbmfm5iP7mApgLAO3t7dbjbVSS8IGMO9pqWkiDeazUex2wS5kad3pVn4fZvg/y64GzJwpm/jAzf8Dw8zMArwQqJwS/90a0sSf4vRPAOgAdZfq7lZknMvPEESPcB0vLCr4j0krvWKOMTUzlaThzsXHo6tnUh64VW4rWqGvFlrrMS3oXHL7wA8D65/bjqtseLflfad2xI4cZ+zaV2xymSz4fNjcm0oN0G7pmjSu5OA+C+SC/Hp93X6qnlQCuCV5fA+Bn4QpEdAIRHR+8PhnANABP1W2EDYLviLRS1VfLYPNHNVyeFlWJjSrtxvu24Uh/8QXqSD/jxvu2Vd1/3BeX8IW/XLm07tp500uEgiltKSA/TJd+PgZF3JhElUsO0m3o3bUf4dCHR4PyQur1efflR7EYwF1E9DkALwK4HACIaCKA65j5WgB/CeB7RHQUOYG2mJlVUMSM74i0UtXXoYiIoeFyG1WJT2zuWF990xxtNaq8EknLx1wOk1CIQuLrIv18HI3QaJrKl6zZbhTktT17+3EAABI6SURBVHzmyt1IFKon6/V59yIomPmPAD5kKO8FcG3w+t8BqDlLHfDpTCbVxUrrJeHMJenYXFyy5njm24NcivRGol6fdw0KqHhFqvqS1vN95uKC1ohMb1HllbC5uEgdz6SObLZ140b6+bBZcxefOWl04Xp93lVQKFbErduW6pal9VydudjMW+IY2BbxRTaVL5w93nhYunD2+JK6M5euw6juVQM/M5euK6ljc3FZ1DkBQ5qK+x7SRCXWWcvmTDWeJ5gsmWzqxk3XrHFoDs2nuan04NlmzbtmjSs5uxhEpQfPNofzUgFdrzNGjfWkiHGl244z3pKLMxebeYcdA/PWTACKLq5ds8YZHR1NX3DpnGYuXYdn975RVPbs3jcwc+m6Il3/B983wui8aEqtOvnra3E4pH8/3M+Y/PW1eOxrMwfKejb14YU/FGfne+EPb6JnU5/xQPmFP4bq/jG6buznZ2GtjkHL09nRht5d+4vMlz856Qxj38t7Xyw5uzjKufLC+mvnTS/Zo6jDeWlGx3qdMWqYcUWMD2/RJGAz7/fMX2U88BxEwM6bi72J474ISj2ZbeYjbfOcGx/EAUOK09aWZmy+4SNFZR03PWg8iD9haDM2XX+srouoAdK52/Rt40GeZDTMuBILaTkotrkAS+razNvGWsaXEYGLfTQJiahyqRWXC4se6dyTYD2XpBwkKigKSNLGJJGkeYuasFETSeu6mnfcAk1KGvYRsBdokjVKi/Vc0kyY9TA7IC2OWj7x7ZwnwSZ2lbTuqJPMF1BTeXPENypc3rOpD13LQ97Wy83e1nF/Nm32cXCEFWy4fGjExE3lUp+1IRFtmsqlayTdS5sDfxdWXEmLwaaCIiBpG5NEXISSjhsXWdE27HzVWM9U3txk/kqFyxeu3IYjIX3UkaOMhStLva2ln03pBctmH9+OUKWFy48PCZ5y5VGnouHywxFOlqZy6RpJ99JGmLqw4rL5HNcjhIeqngJ8P2qmhaRnenORFc3Gi/rNiItbuNxGpy+NtzR6xDuM4TFGjyiN1B/3Ptp4j7dFrHvYNFgqUAD5Gkn30saaqGdTH3a/eriobPerh41WXFKkn816qaj0iSIgi45ajYjNnWAaVGmA3PnKZyh26RgBN+tu07+Uzo42rO+egecXX4T13TMiL7wutBHSNaqXJkQFRUBaLhpKeWzUKmlQpQHyu2AXodil6iybvqXrbnPu4TMMvQtthHSN6qUJUdVTgO/geEp82KhVJHWlqhIg5zcQ5U9QyAlDmyN9Cart30VcpmVzpopyR9isESBb93+59CzMu2tzkWnxIMqVm/qR9G87TgmurMgka1QvCzZ9oihA+qipZAfJQaDN06Y09MMNF483hpK44WJziAhJ/9KwD7YsmzMVLyy+aODHdEjr4om8s6MNSz9xTtFd9dJPnGP8XsYdM8wGn9oIDeGhKI6RHgTaPG1K67poUxr2wQWunshtwrtI+ncxTp/aCA3hUQMawkOR0KghSRTFhIbwUBQDahItQyMWKCooFCuydNFISygLF0j3MWmhJJJKlr4XJvQwWxGTtTAnjWoSbbOPGrGgMln7XphQQaGIydpFIy1+FHFjs4+qnqtM1r4XJlT1pIjJ4kXDZ0gSX+oKm330HTnXp0pH2ncWvxdhvDxRENHlRLSNiI4SkfGUPah3PhFtJ6IdRNRdzzEqpWiYk/jwqa6w2UdT1rty5RKkc/e5RjZ9N8L3wpfq6UkAlwL4VVQFImoCcAuACwC8H8CVRPT++gxPMdGoOn0X+FRX2OzjI8/sM7YRVS5BOnefa2TTdyN8L7yonpj5aQCg8qEFJgHYwcw7g7o/BXAJgKecD1Ax0shhTnxmzYsbm320GeeCnq0iZz9pmy4SF0mx6bsRvhdJPqNoA1AY9nI3gMlRlYloLoC5ANDe3u52ZA1M0sOM2yK5uPVs6kPXii040p9zTu07cAhdK7YAMGfNk9R1pfuXxGXKj0Wyj9JxLujZits3vDjwdz/zwN/h9RweEQ9reCgels0axW3Ga7s/WftehHGmeiKih4joScPPJdImDGWRbuTMfCszT2TmiSNGVK8/VcpTjyQp9SJ/ccsH0stf3Bb0bC2qd+N92wYu/HmO9DNuvK80yZC0btescSVfvkFBuQnJuoeFBACsf24/rrrtUWObErpmjTPGrgqP0ybE+ZF+c86OcLmNSiduNVUjqJNscCYomPnDzPwBw8/PhE3sBlAYzex0AHviH6kiJWv24tKLm01SHmnd3l37Eb5cHg3Kw/Rs6sO8OzcXrfu8OzeXrLspaVG5cjHhWzbDLZxNmO833uo31Cwt7+xow7uGFF+s3zWkyXjnLk1cJKVRTaejSLIfxe8AjCWi0UR0HIArAKz0PKaGJmv24j5zGPzksRfF5fPvecIoVObf80T8AwuxZM124xNSeM8HRRw3RpVLmLl0HV557a2isldeewszl64rqRt13FlDhHWNJl2AL/PYjxHRbgBTAawiojVB+WlEtBoAmPltAJ8HsAbA0wDuYubSZ32lbmTNXlyaFS2cS6JcubTu0QhZZCo/FJFeNao8TqR7fvxg86XEVB517Q6XP7v3DWM9U3mUbM9gzFMveBEUzHwvM5/OzMcz8ynMPCso38PMFxbUW83Mf8HMY5j56z7Gqhwja/bi0vwN0hwTtnXjRpqNzgbpnh+OEFqmcptc2EoySLLqSUkYWTvgW9Q5AVdPaR94gmgiwtVT2kusdDo72rDk8rOL9NVLLj87MneEpG5LRJpPU7lUrbNsztQSoRBl9SRFuuc2NxFR2eRqyTJn89Sn2JNk81glYWTRXnxR5wRRYp+406vefOlZmHfn5qKzh0FBeZi/m9xeZHpaWB6mFqFgQrrnXbPGFZmnAtE3EdK6Y0cOM6qZxo4cVlK2cPZ4dC3fgiMFurt6Pck1AiooFCt6d+3HywcPgwG8fPAwenftrzlGj894PlInsbixEbo+M9dJcZGxb+286Zi5dF2RsBg7chjWzpteU/+KPZrhThETdqrKE1bXhJ2fgNwdo8m80KZu3Ejn08j43B+lvpTLcKdnFIoYqd+BjRmtT5NbGyexRiVrJtFKdaigUMRI/Q5szGh9mtz69KNIC1kziVaqQwWFIkbqd2BjAePT5FY6n0YmaybRSnWooFDESP0ObMxofZrcSufTyGTNJFqpDrV6UsRIrW9cWMC4IA3WRL5RayIFUKsnRVEUBWr1pCiKotSACgpFURSlLCooFEVRlLKooFAURVHKooJCURRFKYsKCkVRFKUs6kdRBT6jndrgc5xpWSNFUSqjgsKScDTNvgOHMP+erQCQqAuhz3GmZY1scCH4XIRil9bzFV5dSSeqerIkLdE0fY4zLWskJS/4+g4cAuOY4OvZ1FeXNqV1pfXy4dXzwQ/7mXH7hhexoGdr1fNRso0KCkvSEk3T5zjTskZSXAg+F6HYpfU0vLpiixdBQUSXE9E2IjpKREaX8aDeC0S0lYg2E1EiYnKkJZqmz3GmZY2kuBB8LkKxS+tpeHXFFl9PFE8CuBTArwR1P8jM50TFIKk3aYmm6XOcaVkjKS4En4tQ7NJ6Gl5dscWLoGDmp5k5lQrrzo423HzpBLS1toAAtLW2JDItpM9xpmWNpLgQfC5CsUvraXh1xRav0WOJaB2ArzCzUa1ERM8DeBUAA/geM99apq25AOYCQHt7+3m7du2Kf8BKw6JWT0rWKRc91pmgIKKHALzb8NbXmPlnQZ11KC8oTmPmPUQ0EsBaAF9g5orqKg0zriiKYkc5QeHMj4KZPxxDG3uC33uJ6F4AkyA711AURVFiIrHmsUQ0jIjemX8N4CPIHYIriqIodcSXeezHiGg3gKkAVhHRmqD8NCJaHVQ7BcBviGgLgN8CWMXMD/gYr6IoSiPjJYQHM98L4F5D+R4AFwavdwI4u85DUxRFUUIkVvWkKIqiJAMVFIqiKEpZvPpRuIKI9gEIO1KcDOAPHobjiqzNB8jenHQ+yUbnU8yZzDzC9EYmBYUJIupNShiQOMjafIDszUnnk2x0PnJU9aQoiqKURQWFoiiKUpZGEhSRcaJSStbmA2RvTjqfZKPzEdIwZxSKoihKdTTSE4WiKIpSBSooFEVRlLJkSlAQ0RlE9AgRPR2kWv2SoQ4R0TeJaAcRPUFE5/oYqwThfKYT0cEgXexmIrrex1glENEQIvotEW0J5nOjoc7xRHRnsD+PEdGo+o9UjnBOnyGifQV7dK2PsUohoiYi2kRE9xveS9X+5Kkwp7TtT9kU0S6ucV5iPTnkbQD/yMyPB5FnNxLRWmZ+qqDOBQDGBj+TAXwn+J1EJPMBgF8z80c9jM+WPwOYwcyvE1EzckEff87MGwrqfA7Aq8z8XiK6AsA3AHzSx2CFSOYEAHcy8+c9jK8avgTgaQDvMryXtv3JU25OQLr2B8iliI5yrov9GpepJwpmfomZHw9ev4bcByOc3usSAD/mHBsAtBLRqXUeqgjhfFJDsOavB382Bz9ha4pLAPwoeL0CwIeIkpvMWTin1EBEpwO4CMC/RVRJ1f4AojlljdivcZkSFIUEj8QdAB4LvdUG4PcFf+9GCi6+ZeYDAFMD1cfPiWh8XQdmSaAC2AxgL4C1zBy5P8z8NoCDAE6q7yjtEMwJAC4L1AAriCjJyan/F4CvAjga8X7q9geV5wSkZ3+A3I3Ig0S0kXIpoMPEfo3LpKAgoncAuBvAl5n5T+G3Df+S6DvACvN5HLkYLWcD+BaAnnqPzwZm7mfmcwCcDmASEX0gVCV1+yOY030ARjHzWQAewrE78kRBRB8FsJeZN5arZihL7P4I55SK/SlgGjOfi5yK6e+J6G9C78e+R5kTFIGe+G4Ay5j5HkOV3QAK7xhOB7CnHmOrhkrzYeY/5VUfzLwaQDMRnVznYVrDzAcArANwfuitgf0hosEAhgPYX9fBVUnUnJj5j8z85+DP2wCcV+ehSZkGYDYRvQDgpwBmENHtoTpp25+Kc0rR/gAoThGNXF6fSaEqsV/jMiUoAl3p9wE8zcxLI6qtBPDpwDJgCoCDzPxS3QZpgWQ+RPTuvI6YiCYht6d/rN8o5RDRCCJqDV63APgwgGdC1VYCuCZ4/XEAD3OCvUIlcwrph2cjd9aUOJh5PjOfzsyjAFyB3NpfHaqWqv2RzCkt+wOIU0THfo3LmtXTNACfArA10BkDwD8DaAcAZv4ugNXIZdHbAeBNAJ/1ME4pkvl8HMB/I6K3ARwCcEWCv7inAvgRETUhJ9DuYub7iegmAL3MvBI5wfj/iGgHcneqV/gbrgjJnL5IRLORs2LbD+Az3kZbBSnfHyMp3p9TANwb3BsOBvATZn6AiK4D3F3jNISHoiiKUpZMqZ4URVGU+FFBoSiKopRFBYWiKIpSFhUUiqIoSllUUCiKoihlUUGhKAFE1F8QQXQzEXVX2c46IqoqyT3logH/54K/ryOiT1fTlqLERdb8KBSlFg4FoTh8Mh3A6wD+HRiwi1cUr+gThaKUgYguIKK7Cv6eTkT3Ba+/Q0S9FJGHIqjzesHrjxPRD4PXF1Mun8MmInqIiE4JAj9eB+AfgieavyaihUT0leB/ziGiDUHwunuJ6ISgfB0RfYNyeTH+g4j+2tFyKA2KCgpFOUZLSPX0SQBrAUwJwiUAudwLdwavv8bMEwGcBeBviegsi75+A2AKM3cgF4Poq8z8AoDvAvhXZj6HmX8d+p8fA/inIHjdVgA3FLw3mJknAfhyqFxRakZVT4pyDKPqiYgeAHAxEa1ALq/BV4O3PhGEeR6MXCiP9wN4QtjX6QDuDOIMHQfg+XKViWg4gFZm/mVQ9CMAywuq5ANGbgQwSjgGRRGhTxSKUpk7AXwCwAwAv2Pm14hoNICvAPhQcIe/CsAQw/8WxsgpfP9bAL7NzBMA/NeI/7UhH/20H3oDqMSMCgpFqcw6AOcCmINjaqd3AXgDwEEiOgW53AAmXiGivySiQQA+VlA+HEBf8PqagvLXALwz3AgzHwTwasH5w6cA/DJcT1FcoHceinKMloIovQDwADN3M3M/Ed2PXFTRawCAmbcQ0SYA2wDsBLA+os1uAPcjl3HsSQDvCMoXAlhORH0ANgAYHZTfB2AFEV0C4Auhtq4B8F0iGhr0meTIx0qG0OixiqIoSllU9aQoiqKURQWFoiiKUhYVFIqiKEpZVFAoiqIoZVFBoSiKopRFBYWiKIpSFhUUiqIoSln+P6gMC9RiCPuHAAAAAElFTkSuQmCC\n",
      "text/plain": [
       "<Figure size 432x288 with 1 Axes>"
      ]
     },
     "metadata": {
      "needs_background": "light"
     },
     "output_type": "display_data"
    }
   ],
   "source": [
    "# You can use R datasets\n",
    "# Load beauty data and a list of the required dataname data\n",
    "# https://vincentarelbundock.github.io/Rdatasets/datasets.html\n",
    "beauty = sm.datasets.get_rdataset(\"TeachingRatings\", \"AER\")\n",
    "\n",
    "# Get overview of the Dataframe\n",
    "# print(beauty.__doc__)\n",
    "\n",
    "# Teacher evaluation data along with data on the professors \n",
    "# minority status, age, gender, credits, beauty rating, and\n",
    "# other data\n",
    "beauty.data.head()\n",
    "\n",
    "# Get count, mean, standard deviation, min, max and averages \n",
    "# for different percentiles\n",
    "beauty.data.describe()\n",
    "\n",
    "# Create a scatter plot which predicts whether the perceived\n",
    "# beauty of the instructor has anything to do with teacher\n",
    "# evaluations\n",
    "\n",
    "# 1st 5 rows of data\n",
    "beauty.data.head()\n",
    "\n",
    "y = beauty.data['beauty']\n",
    "x1 = beauty.data['eval']\n",
    "plt.scatter(x1, y)\n",
    "plt.xlabel('Evaluation')\n",
    "plt.ylabel('Beauty')\n",
    "\n",
    "# Define the intercept to the y line\n",
    "x = sm.add_constant(x1)\n",
    "\n",
    "# OLS Ordinary Least Squares : Estimates the data so a line can \n",
    "# be drawn through data points\n",
    "results = sm.OLS(y,x).fit()\n",
    "results.summary()"
   ]
  },
  {
   "cell_type": "markdown",
   "metadata": {},
   "source": [
    "### Explain the Statistics"
   ]
  },
  {
   "cell_type": "markdown",
   "metadata": {},
   "source": [
    "Model : OLS : Ordinary Least Squares : One way to create a linear regression model. Minimize the dependent samples so you can estimate the unknown samples when creating a linear regression model.\n",
    "\n",
    "Method : Least Squares : Fit data to the model by minimizing the residual samples\n",
    "\n",
    "R-quared : Measure of how well the regression line approximates the data points. If .5 then that is a sign that half of the observed variation can be explained by the models inputs. 1 would be perfectly correlated. \n",
    "\n",
    "Adj, R-squared : Reflects the fit of the model. Values range from 0 to 1, where higher values indicate a good fit.\n",
    "\n",
    "F-statistic : Measures how significantly the data points fit into the regression model by measuring variation of sample means. \n",
    "\n",
    "Prob (F-statistic) : Probability that the null hypothesis for the full model is true. Closer to zero the better the samples approach the model.\n",
    "\n",
    "Log-Likelihood : The conditional probability that the observed data fits the model\n",
    "\n",
    "AIC : Adjusts the log-likelihood based on the number of observations and complexity of the model. It focuses on the data points that best describe the data.\n",
    "\n",
    "Df Residuals : Degrees of freedom of the residuals which is the difference between predicted values and the measured data.\n",
    "\n",
    "BIC : We want a low BIC. It focuses on the shortest description of the data like AIC.\n",
    "\n",
    "Df Model : Number of parameters in the model\n",
    "\n",
    "Coefficient Constant : Is your Y intercept. If both dependent and independent coefficients are zero then the expected output would equal the constant coefficient.\n",
    "\n",
    "Independent Coefficient : Represents the change of the independent variable per unit.\n",
    "\n",
    "Standard Error : Accuracy of the coefficients\n",
    "\n",
    "P>|t| : The P Value. A P Value less than .05 is considered statistically significant.\n",
    "\n",
    "[.025 - .975] : Confidence Interval : Represents the range in which coefficients are likely to fall.\n",
    "\n",
    "Omnibus : (D’Angostino’s test) : Establishes whether the samples come from a normally distributed population.\n",
    "\n",
    "Durbin-Watson : Test to see if the errors are not independent. Used to find repeating patterns that may be obstructed by noise. Its value lies between 0 and 4. If greater than 2 this is a sign that relationships between two variables are going in opposite directions (negatively correlated). If less than 2 variables are positively correlated. \n",
    "\n",
    "Prob(Omnibus) : Probability of Omnibus\n",
    "\n",
    "Jarque-Bera : Tests whether the samples match a normal distribution. It never has a negative number and the further it gets from zero signals the data doesn't have a normal distribution. \n",
    "\n",
    "Skew : Measure of the asymmetry of the probability distribution. Negative skew indicates the tail is longer on the left and the concentration of the data is on the right. Positive indicates the tail is longer on the right. 0 indicates that the tails are balanced.\n",
    "\n",
    "Prob(JB) : The probability of Jarque-Bera\n",
    "\n",
    "Kurtosis : Describes the shape of a probability distribution with a focus on the tails and not the peak. If the value is high that is a sign that there are more outliers. If the value is less than 3 that means there are fewer outliers. A value of 3 points towards a normal distribution. Values greater than 3 indicate more outliers.\n",
    "\n",
    "Condition Number : Represents whether samples are highly related in our regression model. A large number indicates strong multicollinearity which means that independent variables are highly correlated with each other. This causes problems because a small number of samples are so dramatically different from others that results are corrupted."
   ]
  },
  {
   "cell_type": "markdown",
   "metadata": {},
   "source": [
    "### Plot Regression Line"
   ]
  },
  {
   "cell_type": "code",
   "execution_count": 65,
   "metadata": {},
   "outputs": [
    {
     "data": {
      "text/plain": [
       "Text(0, 0.5, 'Beauty')"
      ]
     },
     "execution_count": 65,
     "metadata": {},
     "output_type": "execute_result"
    },
    {
     "data": {
      "image/png": "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